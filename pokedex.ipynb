{
 "cells": [
  {
   "cell_type": "code",
   "execution_count": 19,
   "id": "f5e50851-5e29-47b4-87ef-1f8a4ed9ff84",
   "metadata": {},
   "outputs": [
    {
     "name": "stdin",
     "output_type": "stream",
     "text": [
      "Enter Pokémon number or name:  400\n"
     ]
    },
    {
     "name": "stdout",
     "output_type": "stream",
     "text": [
      "Name: Bibarel\n",
      "Abilities: simple, unaware, moody\n",
      "Moves: swords-dance, cut, headbutt, tackle, take-down, double-edge, bite, growl, water-gun, surf\n",
      "Evolution chain: Bidoof -> Bibarel\n"
     ]
    }
   ],
   "source": [
    "import requests\n",
    "\n",
    "def get_pokemon_data(pokemon_id):\n",
    "    # Fetching basic Pokémon data\n",
    "    url = f\"https://pokeapi.co/api/v2/pokemon/{pokemon_id}\"\n",
    "    response = requests.get(url)\n",
    "    \n",
    "    if response.status_code != 200:\n",
    "        print(\"Pokémon not found.\")\n",
    "        return\n",
    "    \n",
    "    data = response.json()\n",
    "    \n",
    "    # Basic details\n",
    "    name = data['name'].capitalize()\n",
    "    abilities = [ability['ability']['name'] for ability in data['abilities']]\n",
    "    moves = [move['move']['name'] for move in data['moves']]\n",
    "    \n",
    "    # Get Evolution details\n",
    "    species_url = data['species']['url']\n",
    "    species_data = requests.get(species_url).json()\n",
    "    evolution_chain_url = species_data['evolution_chain']['url']\n",
    "    evolution_data = requests.get(evolution_chain_url).json()\n",
    "    \n",
    "    evolutions = []\n",
    "    current_stage = evolution_data['chain']\n",
    "    while current_stage:\n",
    "        evolutions.append(current_stage['species']['name'].capitalize())\n",
    "        if current_stage['evolves_to']:\n",
    "            current_stage = current_stage['evolves_to'][0]\n",
    "        else:\n",
    "            break\n",
    "    \n",
    "    # Display details\n",
    "    print(f\"Name: {name}\")\n",
    "    print(\"Abilities:\", \", \".join(abilities))\n",
    "    print(\"Moves:\", \", \".join(moves[:10]))  # Displaying only the first 10 moves for simplicity\n",
    "    print(\"Evolution chain:\", \" -> \".join(evolutions))\n",
    "\n",
    "# Example usage\n",
    "pokemon_id = input(\"Enter Pokémon number or name: \")\n",
    "get_pokemon_data(pokemon_id)\n"
   ]
  },
  {
   "cell_type": "code",
   "execution_count": null,
   "id": "a7b13bf1-ba9c-4be8-8e4b-814ec2c26a06",
   "metadata": {},
   "outputs": [],
   "source": []
  },
  {
   "cell_type": "code",
   "execution_count": null,
   "id": "2020081f-de3c-4311-b97b-69483ac479f9",
   "metadata": {},
   "outputs": [],
   "source": []
  }
 ],
 "metadata": {
  "kernelspec": {
   "display_name": "Python 3 (ipykernel)",
   "language": "python",
   "name": "python3"
  },
  "language_info": {
   "codemirror_mode": {
    "name": "ipython",
    "version": 3
   },
   "file_extension": ".py",
   "mimetype": "text/x-python",
   "name": "python",
   "nbconvert_exporter": "python",
   "pygments_lexer": "ipython3",
   "version": "3.12.4"
  }
 },
 "nbformat": 4,
 "nbformat_minor": 5
}
